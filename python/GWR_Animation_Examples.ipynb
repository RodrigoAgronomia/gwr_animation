{
 "cells": [
  {
   "cell_type": "code",
   "execution_count": 1,
   "metadata": {},
   "outputs": [],
   "source": [
    "import cv2\n",
    "import numpy as np\n",
    "from PIL import Image\n",
    "import seaborn as sns\n",
    "import matplotlib.pyplot as plt\n",
    "from tqdm.notebook import tqdm, trange\n",
    "from numpy.polynomial.polynomial import polyfit, polyval"
   ]
  },
  {
   "cell_type": "code",
   "execution_count": 2,
   "metadata": {},
   "outputs": [],
   "source": [
    "def get_cat(x, n = 200):\n",
    "    xc = np.digitize(x, bins = np.linspace(x.min(), x.max(), n))\n",
    "    return(xc)\n"
   ]
  },
  {
   "cell_type": "code",
   "execution_count": 3,
   "metadata": {},
   "outputs": [],
   "source": [
    "w = np.load('../data/weigths.npy').astype('uint8')\n",
    "alphaw = w.reshape(-1, w.shape[-1]).astype('float')/255\n",
    "wl = [cv2.resize(w[:,:,i], (400, 300)) for i in range(w.shape[-1])]\n",
    "\n",
    "# \"Treat\"       \"Yield_Ref\"   \"NR_gwr\"      \"Treat_Yield\" \"Yield_Obs\" \n",
    "treatnp = np.moveaxis(np.load('../data/treat.npy'), 2, 0)\n",
    "treatnpf = treatnp.reshape(treatnp.shape[0], -1).astype('float')\n",
    "treatnpr = [cv2.resize(i, (400, 300),  interpolation = cv2.INTER_NEAREST) for i in treatnp]\n",
    "treat, yield_ref, NR_gwr, treat_yield, yield_obs = treatnpr\n"
   ]
  },
  {
   "cell_type": "code",
   "execution_count": 4,
   "metadata": {},
   "outputs": [],
   "source": [
    "treat_pallete = np.uint8(255 * np.array(sns.color_palette(\"Blues\", 201)))\n",
    "treat_col = treat_pallete[get_cat(treat)]"
   ]
  },
  {
   "cell_type": "code",
   "execution_count": 5,
   "metadata": {},
   "outputs": [
    {
     "data": {
      "text/plain": [
       "<matplotlib.image.AxesImage at 0x7fc2b0893790>"
      ]
     },
     "execution_count": 5,
     "metadata": {},
     "output_type": "execute_result"
    },
    {
     "data": {
      "image/png": "[encoded data removed]",
      "text/plain": [
       "<Figure size 432x288 with 1 Axes>"
      ]
     },
     "metadata": {
      "needs_background": "light"
     },
     "output_type": "display_data"
    }
   ],
   "source": [
    "plt.imshow(treat_col)"
   ]
  },
  {
   "cell_type": "code",
   "execution_count": 6,
   "metadata": {},
   "outputs": [],
   "source": [
    "yield_pallete = np.uint8(255 * np.array(sns.color_palette(\"YlOrRd\", 251)))\n",
    "yield_obs_col = yield_pallete[get_cat(yield_obs)]\n",
    "yield_ref_col = yield_pallete[get_cat(yield_ref)]"
   ]
  },
  {
   "cell_type": "code",
   "execution_count": 7,
   "metadata": {},
   "outputs": [
    {
     "data": {
      "text/plain": [
       "<matplotlib.image.AxesImage at 0x7fc2b075b450>"
      ]
     },
     "execution_count": 7,
     "metadata": {},
     "output_type": "execute_result"
    },
    {
     "data": {
      "image/png": "[encoded data removed]",
      "text/plain": [
       "<Figure size 432x288 with 1 Axes>"
      ]
     },
     "metadata": {
      "needs_background": "light"
     },
     "output_type": "display_data"
    }
   ],
   "source": [
    "plt.imshow(yield_obs_col)"
   ]
  },
  {
   "cell_type": "code",
   "execution_count": 8,
   "metadata": {},
   "outputs": [],
   "source": [
    "NRgwr_pallete = np.uint8(255 * np.array(sns.color_palette(\"viridis_r\", 201)))\n",
    "NRgwr_col = NRgwr_pallete[get_cat(NR_gwr)]"
   ]
  },
  {
   "cell_type": "code",
   "execution_count": 9,
   "metadata": {},
   "outputs": [
    {
     "data": {
      "text/plain": [
       "<matplotlib.image.AxesImage at 0x7fc2b06e63d0>"
      ]
     },
     "execution_count": 9,
     "metadata": {},
     "output_type": "execute_result"
    },
    {
     "data": {
      "image/png": "[encoded data removed]",
      "text/plain": [
       "<Figure size 432x288 with 1 Axes>"
      ]
     },
     "metadata": {
      "needs_background": "light"
     },
     "output_type": "display_data"
    }
   ],
   "source": [
    "plt.imshow(NRgwr_col)"
   ]
  },
  {
   "cell_type": "code",
   "execution_count": 10,
   "metadata": {},
   "outputs": [],
   "source": [
    "idx = np.arange(w.shape[-1]).reshape(w.shape[:-1])\n",
    "idxnp = idx.repeat(10, 0).repeat(10, -1)\n",
    "idx[1::2] = idx[1::2,::-1]\n",
    "idx = idx.reshape(-1)"
   ]
  },
  {
   "cell_type": "code",
   "execution_count": 11,
   "metadata": {},
   "outputs": [
    {
     "data": {
      "application/vnd.jupyter.widget-view+json": {
       "model_id": "d14d5dbf296f4068b39b8108f6427cfb",
       "version_major": 2,
       "version_minor": 0
      },
      "text/plain": [
       "HBox(children=(FloatProgress(value=0.0, max=1200.0), HTML(value='')))"
      ]
     },
     "metadata": {},
     "output_type": "display_data"
    },
    {
     "name": "stdout",
     "output_type": "stream",
     "text": [
      "\n"
     ]
    }
   ],
   "source": [
    "yield_imgl = []\n",
    "treat_imgl = []\n",
    "\n",
    "for i in tqdm(idx):\n",
    "    im = 0.25 + 0.75 * (wl[i][:,:,None]/256)\n",
    "    imf = im * yield_obs_col\n",
    "    imf[idxnp == i] = [0,255,0]\n",
    "    yield_imgl.append(imf.astype('uint8')[:,:,::-1])\n",
    "\n",
    "    im = 0.1 + 0.9 * (wl[i][:,:,None]/256)\n",
    "    imf = im * treat_col\n",
    "    imf[idxnp == i] = [0,255,0]\n",
    "    treat_imgl.append(imf.astype('uint8')[:,:,::-1])\n",
    "\n",
    "\n",
    "yield_imgl.append(yield_obs_col[:,:,::-1])\n",
    "treat_imgl.append(treat_col[:,:,::-1])\n",
    "\n",
    "yield_np = np.stack(yield_imgl)\n",
    "treat_np = np.stack(treat_imgl)\n"
   ]
  },
  {
   "cell_type": "code",
   "execution_count": 13,
   "metadata": {},
   "outputs": [
    {
     "data": {
      "application/vnd.jupyter.widget-view+json": {
       "model_id": "3dc5fabaf4f348c0989d29ff217b2d9f",
       "version_major": 2,
       "version_minor": 0
      },
      "text/plain": [
       "HBox(children=(FloatProgress(value=0.0, max=1200.0), HTML(value='')))"
      ]
     },
     "metadata": {},
     "output_type": "display_data"
    },
    {
     "name": "stdout",
     "output_type": "stream",
     "text": [
      "\n",
      "\n"
     ]
    },
    {
     "data": {
      "text/plain": [
       "<Figure size 800x600 with 0 Axes>"
      ]
     },
     "metadata": {},
     "output_type": "display_data"
    }
   ],
   "source": [
    "rgba_colors = np.zeros((alphaw.shape[0], 4))\n",
    "rgba_colors[:, 0] = 1.0\n",
    "\n",
    "my_dpi = 72\n",
    "fig = plt.figure(figsize=(800/my_dpi, 600/my_dpi), dpi=my_dpi)\n",
    "\n",
    "scat_l = []\n",
    "i = 650\n",
    "for i in tqdm(idx):\n",
    "    fig.clf()\n",
    "\n",
    "    rgba_colors[:, 3] = alphaw[i]\n",
    "    plt.scatter(treatnpf[0], treatnpf[4], color=rgba_colors)\n",
    "    intcp, slope = polyfit(treatnpf[0], treatnpf[4], 1, w = alphaw[i])\n",
    "    plt.plot([0, 200], [intcp, intcp + 200*slope], linestyle='--', lw=2, color='black')\n",
    "    fig.canvas.draw()\n",
    "    X = np.array(fig.canvas.renderer.buffer_rgba())\n",
    "    scat_l.append(X)\n",
    "\n",
    "\n",
    "fig.clf()\n",
    "\n",
    "rgba_colors[:, 3] = 1\n",
    "plt.scatter(treatnpf[0], treatnpf[4], color=rgba_colors)\n",
    "intcp, slope = polyfit(treatnpf[0], treatnpf[4], 1)\n",
    "    \n",
    "plt.plot([0, 200], [intcp, intcp + 200*slope], linestyle='--', lw=2, color='black')\n",
    "fig.canvas.draw()\n",
    "X = np.array(fig.canvas.renderer.buffer_rgba())\n",
    "scat_l.append(X)\n",
    "fig.clf()\n"
   ]
  },
  {
   "cell_type": "code",
   "execution_count": 14,
   "metadata": {},
   "outputs": [],
   "source": [
    "yield_treat = np.concatenate([yield_np, treat_np], 1)\n",
    "scat_np = np.stack(scat_l)[:,:,:,:3]\n",
    "frames = np.concatenate([yield_treat, scat_np], 2)"
   ]
  },
  {
   "cell_type": "code",
   "execution_count": 15,
   "metadata": {},
   "outputs": [],
   "source": [
    "save_file = '../data/gwr_animation_examples.mkv'\n",
    "fourcc = cv2.VideoWriter_fourcc(*'H264')\n",
    "VIDEO_OUT = cv2.VideoWriter(save_file, fourcc, 30.0, (1200, 600))\n",
    "[VIDEO_OUT.write(frame) for frame in frames]\n",
    "VIDEO_OUT.release()"
   ]
  },
  {
   "cell_type": "code",
   "execution_count": null,
   "metadata": {},
   "outputs": [],
   "source": []
  }
 ],
 "metadata": {
  "kernelspec": {
   "display_name": "Python [conda env:GEOANN]",
   "language": "python",
   "name": "conda-env-GEOANN-py"
  },
  "language_info": {
   "codemirror_mode": {
    "name": "ipython",
    "version": 3
   },
   "file_extension": ".py",
   "mimetype": "text/x-python",
   "name": "python",
   "nbconvert_exporter": "python",
   "pygments_lexer": "ipython3",
   "version": "3.7.6"
  }
 },
 "nbformat": 4,
 "nbformat_minor": 4
}
